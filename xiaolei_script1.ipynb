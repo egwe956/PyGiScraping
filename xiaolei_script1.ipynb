{
 "cells": [
  {
   "cell_type": "code",
   "execution_count": 21,
   "metadata": {},
   "outputs": [
    {
     "name": "stdout",
     "output_type": "stream",
     "text": [
      "V2_SCTP_Sustainability Community & Future of Work Module 1.txt\n",
      "True\n",
      "yay\n"
     ]
    }
   ],
   "source": [
    "import os\n",
    "\n",
    "f = open(r\"C:\\Users\\xiaol\\Downloads\\V2_SCTP_Sustainability Community & Future of Work Module 1.txt\", encoding = \"utf8\")\n",
    "f = f.read()\n",
    "#print(f)\n",
    "filename = os.path.basename(r'C:\\Users\\xiaol\\Downloads\\V2_SCTP_Sustainability Community & Future of Work Module 1.txt')\n",
    "curr_filename = os.path.splitext(filename)[0]\n",
    "print(filename)\n",
    "\n",
    "#print(f.read())\n",
    "input_text_to_be_searched = \"Sustainable development, sustainable growth, and sustainable use\"\n",
    "#slide_7 = \"Sustainable development, sustainable growth, and sustainable use\"\n",
    "source_bank = [input_text_to_be_searched]\n",
    "\n",
    "with open('duplicated_slides.txt', 'w') as d:\n",
    "    for slide in source_bank:\n",
    "        print(slide in f)\n",
    "        if slide in f:\n",
    "            d.write(filename)\n",
    "            d.write(\"\\n\")\n",
    "            print(\"yay\")\n",
    "d.close()\n",
    "f.close()\n",
    "#iterate via a for loop\n",
    "\n",
    "\n",
    "#if-else statement\n",
    "\n",
    "#if true print name of google slide (array.slice), append to txt file\n",
    "\n"
   ]
  },
  {
   "attachments": {},
   "cell_type": "markdown",
   "metadata": {},
   "source": []
  }
 ],
 "metadata": {
  "kernelspec": {
   "display_name": "Python 3",
   "language": "python",
   "name": "python3"
  },
  "language_info": {
   "codemirror_mode": {
    "name": "ipython",
    "version": 3
   },
   "file_extension": ".py",
   "mimetype": "text/x-python",
   "name": "python",
   "nbconvert_exporter": "python",
   "pygments_lexer": "ipython3",
   "version": "3.11.4"
  },
  "orig_nbformat": 4
 },
 "nbformat": 4,
 "nbformat_minor": 2
}
